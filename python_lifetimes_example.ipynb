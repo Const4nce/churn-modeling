{
 "cells": [
  {
   "cell_type": "code",
   "execution_count": 2,
   "id": "05a65528",
   "metadata": {},
   "outputs": [],
   "source": [
    "import datetime as dt\n",
    "import pandas as pd\n",
    "import matplotlib.pyplot as plt \n",
    "\n",
    "import lifetimes\n",
    "from lifetimes.utils import *\n",
    "from lifetimes import BetaGeoFitter\n",
    "from lifetimes import BetaGeoBetaBinomFitter\n",
    "from lifetimes.plotting import plot_period_transactions\n",
    "from lifetimes.plotting import plot_frequency_recency_matrix\n",
    "from lifetimes.plotting import plot_probability_alive_matrix\n",
    "from lifetimes.utils import calibration_and_holdout_data\n",
    "from lifetimes.plotting import plot_calibration_purchases_vs_holdout_purchases\n",
    "from lifetimes.plotting import plot_expected_repeat_purchases\n",
    "from lifetimes.utils import summary_data_from_transaction_data\n",
    "\n"
   ]
  },
  {
   "cell_type": "markdown",
   "id": "634c4755",
   "metadata": {},
   "source": [
    "## Data Exploration"
   ]
  },
  {
   "cell_type": "code",
   "execution_count": 4,
   "id": "0c548251",
   "metadata": {},
   "outputs": [
    {
     "data": {
      "text/html": [
       "<div>\n",
       "<style scoped>\n",
       "    .dataframe tbody tr th:only-of-type {\n",
       "        vertical-align: middle;\n",
       "    }\n",
       "\n",
       "    .dataframe tbody tr th {\n",
       "        vertical-align: top;\n",
       "    }\n",
       "\n",
       "    .dataframe thead th {\n",
       "        text-align: right;\n",
       "    }\n",
       "</style>\n",
       "<table border=\"1\" class=\"dataframe\">\n",
       "  <thead>\n",
       "    <tr style=\"text-align: right;\">\n",
       "      <th></th>\n",
       "      <th>cust</th>\n",
       "      <th>date</th>\n",
       "    </tr>\n",
       "  </thead>\n",
       "  <tbody>\n",
       "    <tr>\n",
       "      <th>0</th>\n",
       "      <td>2</td>\n",
       "      <td>2020-08-14</td>\n",
       "    </tr>\n",
       "    <tr>\n",
       "      <th>1</th>\n",
       "      <td>3</td>\n",
       "      <td>2020-06-15</td>\n",
       "    </tr>\n",
       "    <tr>\n",
       "      <th>2</th>\n",
       "      <td>15</td>\n",
       "      <td>2020-10-06</td>\n",
       "    </tr>\n",
       "    <tr>\n",
       "      <th>3</th>\n",
       "      <td>20</td>\n",
       "      <td>2020-08-22</td>\n",
       "    </tr>\n",
       "    <tr>\n",
       "      <th>4</th>\n",
       "      <td>35</td>\n",
       "      <td>2020-08-11</td>\n",
       "    </tr>\n",
       "  </tbody>\n",
       "</table>\n",
       "</div>"
      ],
      "text/plain": [
       "   cust        date\n",
       "0     2  2020-08-14\n",
       "1     3  2020-06-15\n",
       "2    15  2020-10-06\n",
       "3    20  2020-08-22\n",
       "4    35  2020-08-11"
      ]
     },
     "execution_count": 4,
     "metadata": {},
     "output_type": "execute_result"
    }
   ],
   "source": [
    "raw_login_data.head(5)"
   ]
  },
  {
   "cell_type": "code",
   "execution_count": 5,
   "id": "5bce24f1",
   "metadata": {},
   "outputs": [
    {
     "data": {
      "text/plain": [
       "cust     int64\n",
       "date    object\n",
       "dtype: object"
      ]
     },
     "execution_count": 5,
     "metadata": {},
     "output_type": "execute_result"
    }
   ],
   "source": [
    "raw_login_data.dtypes"
   ]
  },
  {
   "cell_type": "code",
   "execution_count": 6,
   "id": "02b223ad",
   "metadata": {},
   "outputs": [],
   "source": [
    "#convert date from str to datetime\n",
    "raw_login_data['date'] = pd.to_datetime(raw_login_data['date'], format='%Y-%m-%d')"
   ]
  },
  {
   "cell_type": "code",
   "execution_count": 7,
   "id": "28d7a4f1",
   "metadata": {},
   "outputs": [
    {
     "data": {
      "text/plain": [
       "(100000, 2)"
      ]
     },
     "execution_count": 7,
     "metadata": {},
     "output_type": "execute_result"
    }
   ],
   "source": [
    "raw_login_data.shape"
   ]
  },
  {
   "cell_type": "code",
   "execution_count": 8,
   "id": "c1cca3cf",
   "metadata": {},
   "outputs": [
    {
     "name": "stdout",
     "output_type": "stream",
     "text": [
      "<class 'pandas.core.frame.DataFrame'>\n",
      "RangeIndex: 100000 entries, 0 to 99999\n",
      "Data columns (total 2 columns):\n",
      " #   Column  Non-Null Count   Dtype         \n",
      "---  ------  --------------   -----         \n",
      " 0   cust    100000 non-null  int64         \n",
      " 1   date    100000 non-null  datetime64[ns]\n",
      "dtypes: datetime64[ns](1), int64(1)\n",
      "memory usage: 1.5 MB\n"
     ]
    }
   ],
   "source": [
    "raw_login_data.info()"
   ]
  },
  {
   "cell_type": "code",
   "execution_count": 9,
   "id": "28182c00",
   "metadata": {},
   "outputs": [
    {
     "data": {
      "text/html": [
       "<div>\n",
       "<style scoped>\n",
       "    .dataframe tbody tr th:only-of-type {\n",
       "        vertical-align: middle;\n",
       "    }\n",
       "\n",
       "    .dataframe tbody tr th {\n",
       "        vertical-align: top;\n",
       "    }\n",
       "\n",
       "    .dataframe thead th {\n",
       "        text-align: right;\n",
       "    }\n",
       "</style>\n",
       "<table border=\"1\" class=\"dataframe\">\n",
       "  <thead>\n",
       "    <tr style=\"text-align: right;\">\n",
       "      <th></th>\n",
       "      <th>cust</th>\n",
       "      <th>date</th>\n",
       "    </tr>\n",
       "  </thead>\n",
       "  <tbody>\n",
       "    <tr>\n",
       "      <th>count</th>\n",
       "      <td>100000.000000</td>\n",
       "      <td>100000</td>\n",
       "    </tr>\n",
       "    <tr>\n",
       "      <th>mean</th>\n",
       "      <td>138642.347440</td>\n",
       "      <td>2020-08-16 17:06:11.232000</td>\n",
       "    </tr>\n",
       "    <tr>\n",
       "      <th>min</th>\n",
       "      <td>2.000000</td>\n",
       "      <td>2020-04-01 00:00:00</td>\n",
       "    </tr>\n",
       "    <tr>\n",
       "      <th>25%</th>\n",
       "      <td>69287.750000</td>\n",
       "      <td>2020-07-04 00:00:00</td>\n",
       "    </tr>\n",
       "    <tr>\n",
       "      <th>50%</th>\n",
       "      <td>138106.000000</td>\n",
       "      <td>2020-08-23 00:00:00</td>\n",
       "    </tr>\n",
       "    <tr>\n",
       "      <th>75%</th>\n",
       "      <td>207368.750000</td>\n",
       "      <td>2020-10-03 00:00:00</td>\n",
       "    </tr>\n",
       "    <tr>\n",
       "      <th>max</th>\n",
       "      <td>277320.000000</td>\n",
       "      <td>2020-11-12 00:00:00</td>\n",
       "    </tr>\n",
       "    <tr>\n",
       "      <th>std</th>\n",
       "      <td>79793.167168</td>\n",
       "      <td>NaN</td>\n",
       "    </tr>\n",
       "  </tbody>\n",
       "</table>\n",
       "</div>"
      ],
      "text/plain": [
       "                cust                        date\n",
       "count  100000.000000                      100000\n",
       "mean   138642.347440  2020-08-16 17:06:11.232000\n",
       "min         2.000000         2020-04-01 00:00:00\n",
       "25%     69287.750000         2020-07-04 00:00:00\n",
       "50%    138106.000000         2020-08-23 00:00:00\n",
       "75%    207368.750000         2020-10-03 00:00:00\n",
       "max    277320.000000         2020-11-12 00:00:00\n",
       "std     79793.167168                         NaN"
      ]
     },
     "execution_count": 9,
     "metadata": {},
     "output_type": "execute_result"
    }
   ],
   "source": [
    "raw_login_data.describe(datetime_is_numeric=True)"
   ]
  },
  {
   "cell_type": "code",
   "execution_count": 10,
   "id": "5b4f6f5b",
   "metadata": {},
   "outputs": [
    {
     "data": {
      "text/plain": [
       "49261"
      ]
     },
     "execution_count": 10,
     "metadata": {},
     "output_type": "execute_result"
    }
   ],
   "source": [
    "#number of customers available\n",
    "raw_login_data['cust'].nunique()"
   ]
  },
  {
   "cell_type": "markdown",
   "id": "298e63a9",
   "metadata": {},
   "source": [
    "## Data Enrichment"
   ]
  },
  {
   "cell_type": "code",
   "execution_count": 11,
   "id": "448afa34",
   "metadata": {},
   "outputs": [
    {
     "data": {
      "text/html": [
       "<div>\n",
       "<style scoped>\n",
       "    .dataframe tbody tr th:only-of-type {\n",
       "        vertical-align: middle;\n",
       "    }\n",
       "\n",
       "    .dataframe tbody tr th {\n",
       "        vertical-align: top;\n",
       "    }\n",
       "\n",
       "    .dataframe thead th {\n",
       "        text-align: right;\n",
       "    }\n",
       "</style>\n",
       "<table border=\"1\" class=\"dataframe\">\n",
       "  <thead>\n",
       "    <tr style=\"text-align: right;\">\n",
       "      <th></th>\n",
       "      <th>frequency</th>\n",
       "      <th>recency</th>\n",
       "      <th>T</th>\n",
       "    </tr>\n",
       "    <tr>\n",
       "      <th>cust</th>\n",
       "      <th></th>\n",
       "      <th></th>\n",
       "      <th></th>\n",
       "    </tr>\n",
       "  </thead>\n",
       "  <tbody>\n",
       "    <tr>\n",
       "      <th>2</th>\n",
       "      <td>0.0</td>\n",
       "      <td>0.0</td>\n",
       "      <td>90.0</td>\n",
       "    </tr>\n",
       "    <tr>\n",
       "      <th>3</th>\n",
       "      <td>0.0</td>\n",
       "      <td>0.0</td>\n",
       "      <td>150.0</td>\n",
       "    </tr>\n",
       "    <tr>\n",
       "      <th>15</th>\n",
       "      <td>0.0</td>\n",
       "      <td>0.0</td>\n",
       "      <td>37.0</td>\n",
       "    </tr>\n",
       "    <tr>\n",
       "      <th>20</th>\n",
       "      <td>0.0</td>\n",
       "      <td>0.0</td>\n",
       "      <td>82.0</td>\n",
       "    </tr>\n",
       "    <tr>\n",
       "      <th>35</th>\n",
       "      <td>0.0</td>\n",
       "      <td>0.0</td>\n",
       "      <td>93.0</td>\n",
       "    </tr>\n",
       "  </tbody>\n",
       "</table>\n",
       "</div>"
      ],
      "text/plain": [
       "      frequency  recency      T\n",
       "cust                           \n",
       "2           0.0      0.0   90.0\n",
       "3           0.0      0.0  150.0\n",
       "15          0.0      0.0   37.0\n",
       "20          0.0      0.0   82.0\n",
       "35          0.0      0.0   93.0"
      ]
     },
     "execution_count": 11,
     "metadata": {},
     "output_type": "execute_result"
    }
   ],
   "source": [
    "#python lifetimes function converting the login dates into RFT table\n",
    "rft_df = summary_data_from_transaction_data(raw_login_data, 'cust', 'date')\n",
    "rft_df.head()"
   ]
  },
  {
   "cell_type": "code",
   "execution_count": 12,
   "id": "b51231ee",
   "metadata": {},
   "outputs": [
    {
     "data": {
      "image/png": "[encoded data removed]",
      "text/plain": [
       "<Figure size 1152x432 with 2 Axes>"
      ]
     },
     "metadata": {
      "needs_background": "light"
     },
     "output_type": "display_data"
    },
    {
     "name": "stdout",
     "output_type": "stream",
     "text": [
      "FREQUENCY:\n",
      "count    20048.000000\n",
      "mean         2.530876\n",
      "std          2.369588\n",
      "min          1.000000\n",
      "25%          1.000000\n",
      "50%          2.000000\n",
      "75%          3.000000\n",
      "max         31.000000\n",
      "Name: frequency, dtype: float64\n",
      "\n",
      "RECENCY:\n",
      "count    20048.000000\n",
      "mean        45.241919\n",
      "std         41.874410\n",
      "min          1.000000\n",
      "25%         13.000000\n",
      "50%         33.000000\n",
      "75%         64.000000\n",
      "max        220.000000\n",
      "Name: recency, dtype: float64\n"
     ]
    }
   ],
   "source": [
    "fig, ax = plt.subplots(1,2,figsize=(16,6));\n",
    "\n",
    "rft_df[rft_df['frequency'] > 0]['frequency'].plot(kind='hist', bins=100,ax=ax[0]) #subplot 1\n",
    "#ax[0].set_xlim(0, 200)\n",
    "rft_df[rft_df['recency'] > 0]['recency'].plot(kind='hist', bins=20, ax=ax[1]) #subplot 2\n",
    "#ax[1].set_xlim(0, 600)\n",
    "plt.show()\n",
    "print('FREQUENCY:')\n",
    "print(rft_df[rft_df['frequency'] > 0]['frequency'].describe())\n",
    "print('')\n",
    "print('RECENCY:')\n",
    "print(rft_df[rft_df['frequency'] > 0]['recency'].describe())\n"
   ]
  },
  {
   "cell_type": "code",
   "execution_count": 13,
   "id": "857fa9a1",
   "metadata": {},
   "outputs": [],
   "source": [
    "#TODO: remove customers with no pattern (no repeated login)"
   ]
  },
  {
   "cell_type": "markdown",
   "id": "ae7e0995",
   "metadata": {},
   "source": [
    "## Model Fitting:  \n",
    "\n",
    "#### BG/NBD model"
   ]
  },
  {
   "cell_type": "code",
   "execution_count": 14,
   "id": "05c34f2f",
   "metadata": {},
   "outputs": [],
   "source": [
    "bgf = BetaGeoFitter(penalizer_coef=0.0)"
   ]
  },
  {
   "cell_type": "code",
   "execution_count": 15,
   "id": "293b877e",
   "metadata": {},
   "outputs": [
    {
     "data": {
      "text/plain": [
       "<lifetimes.BetaGeoFitter: fitted with 49261 subjects, a: 1.80, alpha: 11.82, b: 4.67, r: 0.28>"
      ]
     },
     "execution_count": 15,
     "metadata": {},
     "output_type": "execute_result"
    }
   ],
   "source": [
    "bgf.fit(rft_df['frequency'], rft_df['recency'], rft_df['T'])"
   ]
  },
  {
   "cell_type": "markdown",
   "id": "efdf214c",
   "metadata": {},
   "source": [
    "Parameter Interpretation:\n",
    "* <b>p (=probability of our customer to become inactive)</b>  follows a <b>Beta distribution</b> with <b>a = 1.80</b> and <b>b = 4.67</b> <br></br>\n",
    "* <b>alpha</b> and <b>r</b> are for the <b>Gamma distribution</b> (=heterogeneity in login rates among customers)"
   ]
  },
  {
   "cell_type": "markdown",
   "id": "8869896c",
   "metadata": {},
   "source": [
    "#### Assessing model fit (all customers; daily logins)\n",
    "We have now predicted and visualized our customers’ behaviour; But how accurate is the model? \n",
    "To assess the model, first  compare our data to artificial data simulated with our fitted model’s parameters."
   ]
  },
  {
   "cell_type": "code",
   "execution_count": 16,
   "id": "f1117a70",
   "metadata": {},
   "outputs": [
    {
     "data": {
      "image/png": "[encoded data removed]",
      "text/plain": [
       "<Figure size 432x288 with 1 Axes>"
      ]
     },
     "metadata": {
      "needs_background": "light"
     },
     "output_type": "display_data"
    }
   ],
   "source": [
    "plot_period_transactions(bgf)\n",
    "plt.title('Frequency of Logins (unit = Day)')\n",
    "plt.ylabel('Number of Calibration Period Logins')\n",
    "plt.ylabel('Number of Calibration Period Logins')\n",
    "plt.show()\n",
    "\n"
   ]
  },
  {
   "cell_type": "markdown",
   "id": "2e0ef020",
   "metadata": {},
   "source": [
    "We plot the expected number of customers that are going to repeat purchase 0, 1, 2, 3 ... 6 times in the future. For each number of repeat logins (x-axis), we plot both what the model predicted and what the actual numbers were. As we can see, little to no errors in the fit for 2 repeated logins and more, how ever the error is bigger for 0 to 2 logins"
   ]
  },
  {
   "cell_type": "code",
   "execution_count": 17,
   "id": "9162d422",
   "metadata": {},
   "outputs": [
    {
     "data": {
      "image/png": "[encoded data removed]",
      "text/plain": [
       "<Figure size 1008x288 with 2 Axes>"
      ]
     },
     "metadata": {
      "needs_background": "light"
     },
     "output_type": "display_data"
    }
   ],
   "source": [
    "# Plot\n",
    "from scipy.stats import beta, gamma\n",
    "gbd = beta.rvs(bgf.params_['a'], bgf.params_['b'], size = 50000)\n",
    "ggd = gamma.rvs(bgf.params_['r'], scale=1./bgf.params_['alpha'], size = 50000)\n",
    "plt.figure(figsize=(14,4))\n",
    "plt.subplot(121)\n",
    "plt.title('Heterogenity of $p$')\n",
    "temp = plt.hist(gbd, 20, facecolor='pink', alpha=0.75)\n",
    "plt.subplot(122) \n",
    "plt.title('Heterogenity of $\\lambda$')\n",
    "temp = plt.hist(ggd, 20, facecolor='pink', alpha=0.75)"
   ]
  },
  {
   "cell_type": "markdown",
   "id": "f241cbe5",
   "metadata": {},
   "source": [
    "For what we see, the model distribution deviates a bit from the real data, and do moderately well. It seems to underestimate customers that will not login again and overestimate customers that will login again after 1/2/3 logins."
   ]
  },
  {
   "cell_type": "markdown",
   "id": "f9d5749d",
   "metadata": {},
   "source": [
    "#### Visualizing the Model Frequency/Recency Matrix (all customers; daily logins)"
   ]
  },
  {
   "cell_type": "code",
   "execution_count": 18,
   "id": "a7ce5d89",
   "metadata": {},
   "outputs": [
    {
     "data": {
      "image/png": "[encoded data removed]",
      "text/plain": [
       "<Figure size 432x288 with 2 Axes>"
      ]
     },
     "metadata": {
      "needs_background": "light"
     },
     "output_type": "display_data"
    }
   ],
   "source": [
    "fig, ax = plt.subplots(figsize=(6,4));\n",
    "ax=plot_frequency_recency_matrix(bgf, title='Frequency of Logins (unit = Day)',\n",
    "                         xlabel='Number of Calibration Period Logins', ylabel='Customers')\n",
    "plt.show()"
   ]
  },
  {
   "cell_type": "code",
   "execution_count": 19,
   "id": "b9341b33",
   "metadata": {},
   "outputs": [
    {
     "data": {
      "image/png": "[encoded data removed]",
      "text/plain": [
       "<Figure size 432x288 with 2 Axes>"
      ]
     },
     "metadata": {
      "needs_background": "light"
     },
     "output_type": "display_data"
    }
   ],
   "source": [
    "fig, ax = plt.subplots(figsize=(6,4));\n",
    "\n",
    "ax = plot_probability_alive_matrix(bgf)\n",
    "plt.show()"
   ]
  },
  {
   "cell_type": "code",
   "execution_count": 20,
   "id": "bb8e9209",
   "metadata": {},
   "outputs": [],
   "source": [
    "#TODO: describe the graphs"
   ]
  },
  {
   "cell_type": "markdown",
   "id": "a49bb18e",
   "metadata": {},
   "source": [
    "#### Ranking customers from best to worst"
   ]
  },
  {
   "cell_type": "code",
   "execution_count": 21,
   "id": "f566068b",
   "metadata": {},
   "outputs": [
    {
     "data": {
      "text/html": [
       "<div>\n",
       "<style scoped>\n",
       "    .dataframe tbody tr th:only-of-type {\n",
       "        vertical-align: middle;\n",
       "    }\n",
       "\n",
       "    .dataframe tbody tr th {\n",
       "        vertical-align: top;\n",
       "    }\n",
       "\n",
       "    .dataframe thead th {\n",
       "        text-align: right;\n",
       "    }\n",
       "</style>\n",
       "<table border=\"1\" class=\"dataframe\">\n",
       "  <thead>\n",
       "    <tr style=\"text-align: right;\">\n",
       "      <th></th>\n",
       "      <th>frequency</th>\n",
       "      <th>recency</th>\n",
       "      <th>T</th>\n",
       "      <th>predicted_login</th>\n",
       "    </tr>\n",
       "    <tr>\n",
       "      <th>cust</th>\n",
       "      <th></th>\n",
       "      <th></th>\n",
       "      <th></th>\n",
       "      <th></th>\n",
       "    </tr>\n",
       "  </thead>\n",
       "  <tbody>\n",
       "    <tr>\n",
       "      <th>183208</th>\n",
       "      <td>6.0</td>\n",
       "      <td>29.0</td>\n",
       "      <td>31.0</td>\n",
       "      <td>0.115705</td>\n",
       "    </tr>\n",
       "    <tr>\n",
       "      <th>10452</th>\n",
       "      <td>16.0</td>\n",
       "      <td>91.0</td>\n",
       "      <td>98.0</td>\n",
       "      <td>0.116191</td>\n",
       "    </tr>\n",
       "    <tr>\n",
       "      <th>205420</th>\n",
       "      <td>16.0</td>\n",
       "      <td>113.0</td>\n",
       "      <td>114.0</td>\n",
       "      <td>0.116504</td>\n",
       "    </tr>\n",
       "    <tr>\n",
       "      <th>253280</th>\n",
       "      <td>11.0</td>\n",
       "      <td>65.0</td>\n",
       "      <td>67.0</td>\n",
       "      <td>0.121922</td>\n",
       "    </tr>\n",
       "    <tr>\n",
       "      <th>216030</th>\n",
       "      <td>13.0</td>\n",
       "      <td>83.0</td>\n",
       "      <td>84.0</td>\n",
       "      <td>0.122403</td>\n",
       "    </tr>\n",
       "    <tr>\n",
       "      <th>110313</th>\n",
       "      <td>11.0</td>\n",
       "      <td>61.0</td>\n",
       "      <td>64.0</td>\n",
       "      <td>0.123572</td>\n",
       "    </tr>\n",
       "    <tr>\n",
       "      <th>66471</th>\n",
       "      <td>21.0</td>\n",
       "      <td>143.0</td>\n",
       "      <td>144.0</td>\n",
       "      <td>0.125405</td>\n",
       "    </tr>\n",
       "    <tr>\n",
       "      <th>43850</th>\n",
       "      <td>31.0</td>\n",
       "      <td>212.0</td>\n",
       "      <td>214.0</td>\n",
       "      <td>0.129162</td>\n",
       "    </tr>\n",
       "    <tr>\n",
       "      <th>5830</th>\n",
       "      <td>16.0</td>\n",
       "      <td>94.0</td>\n",
       "      <td>97.0</td>\n",
       "      <td>0.129877</td>\n",
       "    </tr>\n",
       "    <tr>\n",
       "      <th>28918</th>\n",
       "      <td>5.0</td>\n",
       "      <td>7.0</td>\n",
       "      <td>8.0</td>\n",
       "      <td>0.204084</td>\n",
       "    </tr>\n",
       "  </tbody>\n",
       "</table>\n",
       "</div>"
      ],
      "text/plain": [
       "        frequency  recency      T  predicted_login\n",
       "cust                                              \n",
       "183208        6.0     29.0   31.0         0.115705\n",
       "10452        16.0     91.0   98.0         0.116191\n",
       "205420       16.0    113.0  114.0         0.116504\n",
       "253280       11.0     65.0   67.0         0.121922\n",
       "216030       13.0     83.0   84.0         0.122403\n",
       "110313       11.0     61.0   64.0         0.123572\n",
       "66471        21.0    143.0  144.0         0.125405\n",
       "43850        31.0    212.0  214.0         0.129162\n",
       "5830         16.0     94.0   97.0         0.129877\n",
       "28918         5.0      7.0    8.0         0.204084"
      ]
     },
     "execution_count": 21,
     "metadata": {},
     "output_type": "execute_result"
    }
   ],
   "source": [
    "#ranking customers from best to worst\n",
    "t=1\n",
    "rft_df['predicted_login'] = bgf.conditional_expected_number_of_purchases_up_to_time(t, rft_df['frequency'], rft_df['recency'], rft_df['T'])\n",
    "rft_df.sort_values(by='predicted_login').tail(10)"
   ]
  },
  {
   "cell_type": "markdown",
   "id": "dfb69937",
   "metadata": {},
   "source": [
    "our 6 best customers:"
   ]
  },
  {
   "cell_type": "code",
   "execution_count": 22,
   "id": "1b411639",
   "metadata": {},
   "outputs": [
    {
     "data": {
      "text/html": [
       "<div>\n",
       "<style scoped>\n",
       "    .dataframe tbody tr th:only-of-type {\n",
       "        vertical-align: middle;\n",
       "    }\n",
       "\n",
       "    .dataframe tbody tr th {\n",
       "        vertical-align: top;\n",
       "    }\n",
       "\n",
       "    .dataframe thead th {\n",
       "        text-align: right;\n",
       "    }\n",
       "</style>\n",
       "<table border=\"1\" class=\"dataframe\">\n",
       "  <thead>\n",
       "    <tr style=\"text-align: right;\">\n",
       "      <th></th>\n",
       "      <th>frequency</th>\n",
       "      <th>recency</th>\n",
       "      <th>T</th>\n",
       "      <th>predicted_login</th>\n",
       "    </tr>\n",
       "    <tr>\n",
       "      <th>cust</th>\n",
       "      <th></th>\n",
       "      <th></th>\n",
       "      <th></th>\n",
       "      <th></th>\n",
       "    </tr>\n",
       "  </thead>\n",
       "  <tbody>\n",
       "    <tr>\n",
       "      <th>183041</th>\n",
       "      <td>23.0</td>\n",
       "      <td>186.0</td>\n",
       "      <td>189.0</td>\n",
       "      <td>7.343486</td>\n",
       "    </tr>\n",
       "    <tr>\n",
       "      <th>39858</th>\n",
       "      <td>25.0</td>\n",
       "      <td>188.0</td>\n",
       "      <td>193.0</td>\n",
       "      <td>7.679897</td>\n",
       "    </tr>\n",
       "    <tr>\n",
       "      <th>5830</th>\n",
       "      <td>16.0</td>\n",
       "      <td>94.0</td>\n",
       "      <td>97.0</td>\n",
       "      <td>7.696409</td>\n",
       "    </tr>\n",
       "    <tr>\n",
       "      <th>116467</th>\n",
       "      <td>22.0</td>\n",
       "      <td>164.0</td>\n",
       "      <td>166.0</td>\n",
       "      <td>7.743732</td>\n",
       "    </tr>\n",
       "    <tr>\n",
       "      <th>66471</th>\n",
       "      <td>21.0</td>\n",
       "      <td>143.0</td>\n",
       "      <td>144.0</td>\n",
       "      <td>8.197889</td>\n",
       "    </tr>\n",
       "    <tr>\n",
       "      <th>43850</th>\n",
       "      <td>31.0</td>\n",
       "      <td>212.0</td>\n",
       "      <td>214.0</td>\n",
       "      <td>9.158311</td>\n",
       "    </tr>\n",
       "  </tbody>\n",
       "</table>\n",
       "</div>"
      ],
      "text/plain": [
       "        frequency  recency      T  predicted_login\n",
       "cust                                              \n",
       "183041       23.0    186.0  189.0         7.343486\n",
       "39858        25.0    188.0  193.0         7.679897\n",
       "5830         16.0     94.0   97.0         7.696409\n",
       "116467       22.0    164.0  166.0         7.743732\n",
       "66471        21.0    143.0  144.0         8.197889\n",
       "43850        31.0    212.0  214.0         9.158311"
      ]
     },
     "execution_count": 22,
     "metadata": {},
     "output_type": "execute_result"
    }
   ],
   "source": [
    "#our 6 best customers:\n",
    "t = 31*3\n",
    "rft_df['predicted_login'] = bgf.conditional_expected_number_of_purchases_up_to_time(t, rft_df['frequency'], rft_df['recency'], rft_df['T'])\n",
    "best_projected_cust = rft_df.sort_values('predicted_login').tail(6)\n",
    "rft_df.sort_values('predicted_login').tail(6)"
   ]
  },
  {
   "cell_type": "markdown",
   "id": "dcf7c327",
   "metadata": {},
   "source": [
    "#### More model fitting (all customers; daily logins)\n",
    "* A second method to evaluate the model is to split the dataset into a calibration period and a holdout dataset. This is very important as we want to test how our model performs on data not yet seen (i.e. cross-validation in machine learning)\n"
   ]
  },
  {
   "cell_type": "code",
   "execution_count": 23,
   "id": "cf9694db",
   "metadata": {},
   "outputs": [
    {
     "data": {
      "text/html": [
       "<div>\n",
       "<style scoped>\n",
       "    .dataframe tbody tr th:only-of-type {\n",
       "        vertical-align: middle;\n",
       "    }\n",
       "\n",
       "    .dataframe tbody tr th {\n",
       "        vertical-align: top;\n",
       "    }\n",
       "\n",
       "    .dataframe thead th {\n",
       "        text-align: right;\n",
       "    }\n",
       "</style>\n",
       "<table border=\"1\" class=\"dataframe\">\n",
       "  <thead>\n",
       "    <tr style=\"text-align: right;\">\n",
       "      <th></th>\n",
       "      <th>frequency_cal</th>\n",
       "      <th>recency_cal</th>\n",
       "      <th>T_cal</th>\n",
       "      <th>frequency_holdout</th>\n",
       "      <th>duration_holdout</th>\n",
       "    </tr>\n",
       "    <tr>\n",
       "      <th>cust</th>\n",
       "      <th></th>\n",
       "      <th></th>\n",
       "      <th></th>\n",
       "      <th></th>\n",
       "      <th></th>\n",
       "    </tr>\n",
       "  </thead>\n",
       "  <tbody>\n",
       "    <tr>\n",
       "      <th>2</th>\n",
       "      <td>0.0</td>\n",
       "      <td>0.0</td>\n",
       "      <td>51.0</td>\n",
       "      <td>0.0</td>\n",
       "      <td>28.0</td>\n",
       "    </tr>\n",
       "    <tr>\n",
       "      <th>3</th>\n",
       "      <td>0.0</td>\n",
       "      <td>0.0</td>\n",
       "      <td>111.0</td>\n",
       "      <td>0.0</td>\n",
       "      <td>28.0</td>\n",
       "    </tr>\n",
       "    <tr>\n",
       "      <th>20</th>\n",
       "      <td>0.0</td>\n",
       "      <td>0.0</td>\n",
       "      <td>43.0</td>\n",
       "      <td>0.0</td>\n",
       "      <td>28.0</td>\n",
       "    </tr>\n",
       "    <tr>\n",
       "      <th>35</th>\n",
       "      <td>0.0</td>\n",
       "      <td>0.0</td>\n",
       "      <td>54.0</td>\n",
       "      <td>0.0</td>\n",
       "      <td>28.0</td>\n",
       "    </tr>\n",
       "    <tr>\n",
       "      <th>38</th>\n",
       "      <td>0.0</td>\n",
       "      <td>0.0</td>\n",
       "      <td>38.0</td>\n",
       "      <td>0.0</td>\n",
       "      <td>28.0</td>\n",
       "    </tr>\n",
       "  </tbody>\n",
       "</table>\n",
       "</div>"
      ],
      "text/plain": [
       "      frequency_cal  recency_cal  T_cal  frequency_holdout  duration_holdout\n",
       "cust                                                                        \n",
       "2               0.0          0.0   51.0                0.0              28.0\n",
       "3               0.0          0.0  111.0                0.0              28.0\n",
       "20              0.0          0.0   43.0                0.0              28.0\n",
       "35              0.0          0.0   54.0                0.0              28.0\n",
       "38              0.0          0.0   38.0                0.0              28.0"
      ]
     },
     "execution_count": 23,
     "metadata": {},
     "output_type": "execute_result"
    }
   ],
   "source": [
    "summary_cal_holdout = calibration_and_holdout_data(raw_login_data, 'cust', 'date',\n",
    "                                        calibration_period_end=dt.datetime(2020,10,4).date(),\n",
    "                                        observation_period_end=dt.datetime(2020,11,1).date(),\n",
    "                                                  freq='D')\n",
    "                                                  \n",
    "summary_cal_holdout.head()\n"
   ]
  },
  {
   "cell_type": "code",
   "execution_count": 24,
   "id": "7f3a12e0",
   "metadata": {},
   "outputs": [
    {
     "data": {
      "text/plain": [
       "<lifetimes.BetaGeoFitter: fitted with 39239 subjects, a: 2.15, alpha: 12.69, b: 6.15, r: 0.30>"
      ]
     },
     "execution_count": 24,
     "metadata": {},
     "output_type": "execute_result"
    }
   ],
   "source": [
    "#fit the calibration output df\n",
    "bgf.fit(summary_cal_holdout['frequency_cal'], summary_cal_holdout['recency_cal'], summary_cal_holdout['T_cal'])\n"
   ]
  },
  {
   "cell_type": "code",
   "execution_count": 25,
   "id": "b1d90cfc",
   "metadata": {},
   "outputs": [
    {
     "data": {
      "image/png": "[encoded data removed]",
      "text/plain": [
       "<Figure size 432x288 with 1 Axes>"
      ]
     },
     "metadata": {
      "needs_background": "light"
     },
     "output_type": "display_data"
    }
   ],
   "source": [
    "plot_calibration_purchases_vs_holdout_purchases(bgf, summary_cal_holdout)\n",
    "plt.title('Actual Daily Logins in Holdout Period vs Predicted Daily Logins')\n",
    "plt.ylabel('Average of Daily Logins in Holdout Period')\n",
    "plt.xlabel('Daily Logins in Calibration period')\n",
    "plt.show()"
   ]
  },
  {
   "cell_type": "markdown",
   "id": "b4aad9cd",
   "metadata": {},
   "source": [
    "Observations:\n",
    "    \n",
    "* The model is predicting relatively well, it tends to overestimate customers expected to login for 3 times after the first login, and slightly underestimates customers with 6 logins"
   ]
  },
  {
   "cell_type": "code",
   "execution_count": null,
   "id": "932f24c5",
   "metadata": {},
   "outputs": [],
   "source": []
  }
 ],
 "metadata": {
  "kernelspec": {
   "display_name": "Python 3 (ipykernel)",
   "language": "python",
   "name": "python3"
  },
  "language_info": {
   "codemirror_mode": {
    "name": "ipython",
    "version": 3
   },
   "file_extension": ".py",
   "mimetype": "text/x-python",
   "name": "python",
   "nbconvert_exporter": "python",
   "pygments_lexer": "ipython3",
   "version": "3.9.7"
  }
 },
 "nbformat": 4,
 "nbformat_minor": 5
}
